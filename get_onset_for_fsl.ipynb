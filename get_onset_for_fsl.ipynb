{
 "cells": [
  {
   "cell_type": "raw",
   "metadata": {},
   "source": [
    "This code creates onset files that fsl needs in feat\n",
    "\n",
    "Fields that need to be defined:\n",
    "    subj, run_name, run, numRep, duration \n",
    "I can strip the subject name, runs and numRep from the csv (TODO), but duration needs to be specified"
   ]
  },
  {
   "cell_type": "code",
   "execution_count": 162,
   "metadata": {},
   "outputs": [],
   "source": [
    "import numpy as np\n",
    "import pandas as pd\n"
   ]
  },
  {
   "cell_type": "code",
   "execution_count": 317,
   "metadata": {},
   "outputs": [],
   "source": [
    "subj  = 'P02'\n",
    "run_name = 1\n",
    "numRep = 4\n",
    "duration = 8\n",
    "run = pd.read_csv(\"log_P02_run{}.csv\".format(run_name))"
   ]
  },
  {
   "cell_type": "code",
   "execution_count": 318,
   "metadata": {},
   "outputs": [],
   "source": [
    "#stripping the condition name and creating the sorted list, here also define numRep and duration\n",
    "\n",
    "condition_list = {x.lower().replace('fmri_obj/', '').replace('.png', '') for x in run.Object}\n",
    "condition_list = pd.DataFrame(condition_list).reset_index(drop=True)\n"
   ]
  },
  {
   "cell_type": "code",
   "execution_count": 319,
   "metadata": {},
   "outputs": [],
   "source": [
    "#to sort the runs based on the condition, in a similar way the condition_list is created \n",
    "condition_list = condition_list.sort_values(by = condition_list.columns[0])[0]\n",
    "run.sort_values(by=['Object'], inplace=True)"
   ]
  },
  {
   "cell_type": "code",
   "execution_count": 320,
   "metadata": {},
   "outputs": [],
   "source": [
    "#sanity check\n",
    "if len(run) != numRep*len(condition_list):\n",
    "    raise Exception('are you sure about the #conditions and repetitions? Check again because this is what my code depends on') "
   ]
  },
  {
   "cell_type": "code",
   "execution_count": 321,
   "metadata": {},
   "outputs": [],
   "source": [
    "#split the run log for each condition\n",
    "split = [x for _, x in sorted(run.groupby('Object'))]"
   ]
  },
  {
   "cell_type": "code",
   "execution_count": 322,
   "metadata": {},
   "outputs": [],
   "source": [
    "#this is writing the individual EV files \n",
    "for i in range(len(condition_list)):\n",
    "    ev = np.column_stack([split[i].trial_start, np.repeat(duration, numRep) , np.repeat(1, numRep)]) \n",
    "    np.savetxt('{}_run-{}.txt'.format(condition_list[i], run_name), ev, fmt='%5s', delimiter=' ')"
   ]
  },
  {
   "cell_type": "code",
   "execution_count": null,
   "metadata": {},
   "outputs": [],
   "source": []
  }
 ],
 "metadata": {
  "kernelspec": {
   "display_name": "Python 3",
   "language": "python",
   "name": "python3"
  },
  "language_info": {
   "codemirror_mode": {
    "name": "ipython",
    "version": 3
   },
   "file_extension": ".py",
   "mimetype": "text/x-python",
   "name": "python",
   "nbconvert_exporter": "python",
   "pygments_lexer": "ipython3",
   "version": "3.7.4"
  }
 },
 "nbformat": 4,
 "nbformat_minor": 2
}
