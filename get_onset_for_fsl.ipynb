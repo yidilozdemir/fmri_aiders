{
 "cells": [
  {
   "cell_type": "raw",
   "metadata": {},
   "source": [
    "This code creates onset files that fsl needs in feat\n",
    "\n",
    "Fields that need to be defined:\n",
    "    subj, run_name, run, numRep, duration \n",
    "I can strip the subject name, runs and numRep from the csv (TODO), but duration needs to be specified"
   ]
  },
  {
   "cell_type": "code",
   "execution_count": 22,
   "metadata": {},
   "outputs": [],
   "source": [
    "import numpy as np\n",
    "import pandas as pd\n"
   ]
  },
  {
   "cell_type": "code",
   "execution_count": 23,
   "metadata": {},
   "outputs": [],
   "source": [
    "runs = !ls *csv\n",
    "numRep = 4\n",
    "duration = 8"
   ]
  },
  {
   "cell_type": "code",
   "execution_count": 32,
   "metadata": {},
   "outputs": [],
   "source": [
    "for run_name in runs:\n",
    "    subj = run_name.split('_')[1]\n",
    "    run_num = run_name.split(\"run\",1)[1][0]\n",
    "    #these are assuming we know the format of file names \n",
    "    run = pd.read_csv(run_name)\n",
    "    #stripping the condition name and creating the sorted list, here also define numRep and duration\n",
    "    condition_list = {x.lower().replace('fmri_obj/', '').replace('.png', '') for x in run.Object}\n",
    "    condition_list = pd.DataFrame(condition_list)\n",
    "    #this can be saved\n",
    "    #to sort the runs based on the condition, in a similar way the condition_list is created \n",
    "    condition_list = condition_list.sort_values(by = condition_list.columns[0]).reset_index(drop=True)[0]\n",
    "    run.sort_values(by=['Object'], inplace=True)\n",
    "    if len(run) != numRep*len(condition_list):\n",
    "        raise Exception('are you sure about the #conditions and repetitions? Check again because this is what my code depends on')\n",
    "    #split the run log for each condition\n",
    "    split = [x for _, x in sorted(run.groupby('Object'))]\n",
    "    for i in range(len(condition_list)):\n",
    "        ev = np.column_stack([np.sort(split[i].trial_start), np.repeat(duration, numRep) , np.repeat(1, numRep)]) \n",
    "        np.savetxt('{}_run-{}.txt'.format(condition_list[i], run_num), ev, fmt='%5s', delimiter=' ')"
   ]
  },
  {
   "cell_type": "code",
   "execution_count": null,
   "metadata": {},
   "outputs": [],
   "source": []
  }
 ],
 "metadata": {
  "kernelspec": {
   "display_name": "Python 3",
   "language": "python",
   "name": "python3"
  },
  "language_info": {
   "codemirror_mode": {
    "name": "ipython",
    "version": 3
   },
   "file_extension": ".py",
   "mimetype": "text/x-python",
   "name": "python",
   "nbconvert_exporter": "python",
   "pygments_lexer": "ipython3",
   "version": "3.7.4"
  }
 },
 "nbformat": 4,
 "nbformat_minor": 2
}
